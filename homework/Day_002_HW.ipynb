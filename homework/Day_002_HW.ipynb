{
 "cells": [
  {
   "cell_type": "markdown",
   "metadata": {},
   "source": [
    "## [作業目標]\n",
    "了解機器學習適合應用的領域與範疇。"
   ]
  },
  {
   "cell_type": "markdown",
   "metadata": {},
   "source": [
    "## [作業重點]\n",
    "透過瞭解機器學習的運作方式，找出非常適用機器學習應用的領域及其原因"
   ]
  },
  {
   "cell_type": "markdown",
   "metadata": {},
   "source": [
    "## 作業\n",
    "請找出一個你認為機器學習可以發光發熱的領域並闡述原因? "
   ]
  },
  {
   "cell_type": "code",
   "execution_count": null,
   "metadata": {},
   "outputs": [],
   "source": [
    "醫療\n",
    "感冒到醫院去看醫生時,醫生總是問一些關於目前身體狀況的問題,然後判斷病情和開藥單\n",
    "因為病人在描述狀況時每個人的回答多少都有所不一樣,但都是在回答答案,\n",
    "利用監督式學習,就像是聊天機器人一樣,依照病人的描述的狀況來判斷,\n",
    "並確認出是否為目前已被認知的病毒細菌,而對症下藥\n",
    "當然也可以依照收集的數據來判斷是否發生大規模流行,或是新種病毒突變,更進一步做到防範隔離\n",
    "如果能夠再進一步到外科手術,畢竟人體器官都是大同小異(撇開極端例子),讓機器能夠判斷出器官問題,\n",
    "機器的手術開刀,勢必可以減少人為上的醫療疏失,也可以降低醫療人員的成本,\n",
    "讓更多一般收入或是經濟上有困難的人接受優良的醫療資源"
   ]
  }
 ],
 "metadata": {
  "kernelspec": {
   "display_name": "Python 3",
   "language": "python",
   "name": "python3"
  },
  "language_info": {
   "codemirror_mode": {
    "name": "ipython",
    "version": 3
   },
   "file_extension": ".py",
   "mimetype": "text/x-python",
   "name": "python",
   "nbconvert_exporter": "python",
   "pygments_lexer": "ipython3",
   "version": "3.7.3"
  }
 },
 "nbformat": 4,
 "nbformat_minor": 2
}
